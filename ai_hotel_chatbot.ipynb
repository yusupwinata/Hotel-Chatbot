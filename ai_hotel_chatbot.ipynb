{
 "cells": [
  {
   "cell_type": "markdown",
   "id": "db2535a4-353a-4c64-aa8b-2adfd4a8e600",
   "metadata": {},
   "source": [
    "# Initial Setup"
   ]
  },
  {
   "cell_type": "code",
   "execution_count": 1,
   "id": "02f1a649-d5fc-48b8-86a5-ce823e5e549f",
   "metadata": {},
   "outputs": [],
   "source": [
    "import os\n",
    "import sys\n",
    "import json\n",
    "import string\n",
    "import pathlib\n",
    "import logging\n",
    "import pandas as pd\n",
    "import gradio as gr\n",
    "from typing import Literal\n",
    "from dotenv import load_dotenv\n",
    "from openai import OpenAI\n",
    "from datetime import datetime, timedelta\n",
    "\n",
    "logger = logging.getLogger()\n",
    "fhandler = logging.FileHandler(filename=\"chatbot_tools.log\", mode=\"a\")\n",
    "formatter = logging.Formatter('%(asctime)s - %(name)s - %(levelname)s - %(message)s')\n",
    "fhandler.setFormatter(formatter)\n",
    "logger.addHandler(fhandler)\n",
    "logger.setLevel(logging.DEBUG)"
   ]
  },
  {
   "cell_type": "markdown",
   "id": "cfe7b225-7632-4db5-beb9-85c46d2ab649",
   "metadata": {},
   "source": [
    "## LLMs"
   ]
  },
  {
   "cell_type": "code",
   "execution_count": 2,
   "id": "dc60bf7e-c72a-4837-9d40-905a0ca1530f",
   "metadata": {},
   "outputs": [],
   "source": [
    "# Local Bot\n",
    "OLLAMA_API_KEY = \"ollama\"\n",
    "OLLAMA_BASE_URL = \"http://localhost:11434/v1\"\n",
    "llama_client = OpenAI(api_key=OLLAMA_API_KEY, base_url=OLLAMA_BASE_URL)\n",
    "llama_model = \"llama3.2\"\n",
    "\n",
    "# Online Bot\n",
    "load_dotenv(override=True)\n",
    "OPENAI_API_KEY = os.getenv(\"OPENAI_API_KEY\", \"type-your-api-key-here\")\n",
    "gpt_client = OpenAI()\n",
    "gpt_model = \"gpt-4o-mini\""
   ]
  },
  {
   "cell_type": "markdown",
   "id": "e0c52802-046c-42f9-9cf7-9bc303cd6ee1",
   "metadata": {},
   "source": [
    "## Data"
   ]
  },
  {
   "cell_type": "code",
   "execution_count": 3,
   "id": "7be32dae-8b8d-4cb1-8f5e-8ccaf9354580",
   "metadata": {},
   "outputs": [],
   "source": [
    "ABSOLUTE_PATH = os.path.abspath(os.getcwd())\n",
    "data_dir = \"data\"\n",
    "\n",
    "path_room_type = os.path.join(ABSOLUTE_PATH, data_dir, \"hotel_room_types.csv\")\n",
    "path_booking_data = os.path.join(ABSOLUTE_PATH, data_dir, \"hotel_booking_data.csv\")\n",
    "path_room_availability = os.path.join(ABSOLUTE_PATH, data_dir, \"room_availability.csv\")"
   ]
  },
  {
   "cell_type": "markdown",
   "id": "7838b6af-3e77-4d4b-9c0f-f36a7c68ddd8",
   "metadata": {
    "jp-MarkdownHeadingCollapsed": true
   },
   "source": [
    "## Helper Function"
   ]
  },
  {
   "cell_type": "markdown",
   "id": "9e826580-6d78-48ae-9808-9095b9b8822d",
   "metadata": {},
   "source": [
    "### Dataset Related Functions"
   ]
  },
  {
   "cell_type": "code",
   "execution_count": 4,
   "id": "ab24039c-6ce3-4f8e-a66f-a3147c7c408b",
   "metadata": {},
   "outputs": [],
   "source": [
    "def load_dataset(file_path: str) -> pd.DataFrame:\n",
    "    return pd.read_csv(file_path)\n",
    "\n",
    "def save_dataset(df: pd.DataFrame, file_path: str):\n",
    "    df.to_csv(file_path, index=False)\n",
    "\n",
    "def convert_to_records(df: pd.DataFrame) -> list:\n",
    "    records = df.to_json(orient=\"records\")\n",
    "    return json.loads(records)"
   ]
  },
  {
   "cell_type": "markdown",
   "id": "7336ff70-1784-4f44-9800-2fd876c04fc5",
   "metadata": {},
   "source": [
    "### Booking Related Functions"
   ]
  },
  {
   "cell_type": "code",
   "execution_count": 5,
   "id": "f76f5477-976c-47e8-b887-d805be28f530",
   "metadata": {},
   "outputs": [],
   "source": [
    "def generate_booking_id() -> str:\n",
    "    booking_data = load_dataset(path_booking_data)\n",
    "    last_booking_id = list((booking_data.Booking_ID))[-1]\n",
    "    last_booking_id = int(last_booking_id[1:])\n",
    "    new_booking_id = last_booking_id + 1\n",
    "    return \"B\" + f\"{new_booking_id:03d}\" \n",
    "\n",
    "def add_booking_data(new_booking_data: dict):\n",
    "    booking_data = load_dataset(path_booking_data)\n",
    "    booking_data.loc[len(booking_data)] = new_booking_data\n",
    "    \n",
    "    save_dataset(booking_data, path_booking_data)"
   ]
  },
  {
   "cell_type": "markdown",
   "id": "c3f2c822-d1c4-4169-8deb-5d72e036a19b",
   "metadata": {},
   "source": [
    "### Room Related Functions"
   ]
  },
  {
   "cell_type": "code",
   "execution_count": 6,
   "id": "bc5465e9-b48a-4fa1-befd-2f7ebbe0b4aa",
   "metadata": {},
   "outputs": [],
   "source": [
    "def get_room_type() -> list:\n",
    "    room_type = load_dataset(path_room_type)\n",
    "    return list(room_type.Room_Type)\n",
    "\n",
    "def get_max_occupancy(room_type: str) -> int:\n",
    "    room_types = load_dataset(path_room_type)\n",
    "    max_occupancy = room_types.Max_Occupancy[room_types.Room_Type == room_type].iloc[0]\n",
    "    return int(max_occupancy)\n",
    "\n",
    "def get_room_availability(date: str) -> list:\n",
    "    all_rooms = load_dataset(path_room_availability)\n",
    "    rooms = all_rooms[all_rooms.Date == date].iloc[:, 1:]\n",
    "    rooms = convert_to_records(rooms)\n",
    "    \n",
    "    if not rooms:\n",
    "        room_type = get_room_type()\n",
    "        for room in room_type:\n",
    "            rooms.append({\"Room_Type\": room, \"Available_Rooms\": 5})\n",
    "    return rooms\n",
    "\n",
    "def update_room_availability(room_type: str, checkin_date: str, nights: int, update_type: Literal[\"booking\", \"cancellation\"]):\n",
    "    df = load_dataset(path_room_availability)\n",
    "    day = datetime.fromisoformat(checkin_date)\n",
    "    for night in range(0, nights):\n",
    "        date = day.strftime('%Y-%m-%d')\n",
    "\n",
    "        if update_type == \"booking\":\n",
    "            df.loc[(df.Date == date) & (df.Room_Type == room_type), \"Available_Rooms\"] -= 1\n",
    "        elif update_type == \"cancellation\":\n",
    "            df.loc[(df.Date == date) & (df.Room_Type == room_type), \"Available_Rooms\"] += 1\n",
    "        \n",
    "        day = day + timedelta(days=1)\n",
    "    \n",
    "    save_dataset(df, path_room_availability)"
   ]
  },
  {
   "cell_type": "markdown",
   "id": "01324f3b-cc02-4e73-a156-56a57db00ed0",
   "metadata": {},
   "source": [
    "### Calculation related functions"
   ]
  },
  {
   "cell_type": "code",
   "execution_count": 7,
   "id": "b3edc97c-977f-4574-9e85-10d37a7f154a",
   "metadata": {},
   "outputs": [],
   "source": [
    "def calculate_nights(start_date: str, end_date: str) -> int:\n",
    "    start = datetime.fromisoformat(start_date)\n",
    "    end = datetime.fromisoformat(end_date)\n",
    "    return (end - start).days + 1\n",
    "\n",
    "def calculate_price(room_type: str, nights: int) -> float:\n",
    "    room_types = load_dataset(path_room_type)\n",
    "    price_per_night = room_types.Price_Per_Night[room_types.Room_Type == room_type].iloc[0]\n",
    "    price_per_night = float(price_per_night[1:])\n",
    "    return price_per_night * nights"
   ]
  },
  {
   "cell_type": "markdown",
   "id": "4bf040df-b02f-42b7-8512-d719166b4e85",
   "metadata": {},
   "source": [
    "# Tools"
   ]
  },
  {
   "cell_type": "markdown",
   "id": "15b67297-b72c-465e-96f4-4a860a34d223",
   "metadata": {},
   "source": [
    "## get_room_details"
   ]
  },
  {
   "cell_type": "code",
   "execution_count": 8,
   "id": "3c50912a-b972-47be-abcb-b1e782a211ff",
   "metadata": {},
   "outputs": [
    {
     "data": {
      "text/plain": [
       "{'Room_Type': 'Suite Room',\n",
       " 'Description': 'A luxurious suite with a separate living area and premium amenities',\n",
       " 'Facility': 'Free Wi-Fi, King Bed, Bathtub, Lounge Area, Coffee Maker',\n",
       " 'Price_Per_Night': '$200',\n",
       " 'Max_Occupancy': 2}"
      ]
     },
     "execution_count": 8,
     "metadata": {},
     "output_type": "execute_result"
    }
   ],
   "source": [
    "def get_room_details(room_type: str) -> dict:\n",
    "    room_type = room_type.title()\n",
    "    \n",
    "    rooms = load_dataset(path_room_type)\n",
    "    room_details = rooms[rooms.Room_Type == room_type]\n",
    "\n",
    "    if not room_details.empty:\n",
    "        room_details = convert_to_records(room_details)[0]\n",
    "    else:\n",
    "        room_details = {\"Room_Type\": \"Unknown\", \"Room Details\": \"Unknown\"}\n",
    "    \n",
    "    return room_details\n",
    "\n",
    "# Testing\n",
    "get_room_details(\"suite room\")"
   ]
  },
  {
   "cell_type": "code",
   "execution_count": 9,
   "id": "04bd80b1-782f-434e-a02c-694b00562f5f",
   "metadata": {},
   "outputs": [],
   "source": [
    "get_room_details_function = {\n",
    "    \"name\": \"get_room_details\",\n",
    "    \"description\": \"Get room details, including description, facilities, price per night, and maximum occupancy based on room type. Call this whenever you need to know the details of the room type, for example when a customer asks 'Tell me more about this room type'\",\n",
    "    \"parameters\": {\n",
    "        \"type\": \"object\",\n",
    "        \"properties\": {\n",
    "            \"room_type\": {\n",
    "                \"type\": \"string\",\n",
    "                \"description\": \"The room type that customers want to know about\"\n",
    "            }\n",
    "        },\n",
    "        \"required\": [\"room_type\"],\n",
    "        \"additionalProperties\": False\n",
    "    }\n",
    "}"
   ]
  },
  {
   "cell_type": "markdown",
   "id": "ef40f06e-a96f-4a40-a222-5dc90a62d178",
   "metadata": {},
   "source": [
    "## check_room_type_availability"
   ]
  },
  {
   "cell_type": "code",
   "execution_count": 10,
   "id": "f999c45a-7f3d-49b8-83ba-bb8d6129e1d1",
   "metadata": {},
   "outputs": [
    {
     "data": {
      "text/plain": [
       "[{'Date': '2025-05-17', 'Availability_Status': '5 rooms available'},\n",
       " {'Date': '2025-05-18', 'Availability_Status': '3 rooms available'},\n",
       " {'Date': '2025-05-19', 'Availability_Status': 'fully booked'}]"
      ]
     },
     "execution_count": 10,
     "metadata": {},
     "output_type": "execute_result"
    }
   ],
   "source": [
    "def check_room_type_availability(room_type: str, start_date: str, end_date: str) -> list:\n",
    "    room_type = room_type.title()\n",
    "    \n",
    "    # Check room type\n",
    "    if not room_type in get_room_type():\n",
    "        return [{\"Room Type\": \"Unknown\", \"Availability_Status\": \"Unknown\"}]\n",
    "    \n",
    "    day = datetime.fromisoformat(start_date)\n",
    "    nights = calculate_nights(start_date, end_date)\n",
    "    if nights <= 0:\n",
    "        return [{\"Date\": \"Error\", \"Availability_Status\": \"Unknown\"}]\n",
    "    \n",
    "    report = []\n",
    "    for night in range(0, nights):\n",
    "        date = day.strftime('%Y-%m-%d')\n",
    "        room_availability = get_room_availability(date)\n",
    "        room_availability = {item['Room_Type']: item['Available_Rooms'] for item in room_availability}\n",
    "        room_type_availability = room_availability[room_type]\n",
    "\n",
    "        report.append({\n",
    "            \"Date\": date,\n",
    "            \"Availability_Status\": f\"{room_type_availability} rooms available\" if room_type_availability else \"fully booked\"\n",
    "        })\n",
    "        day = day + timedelta(days=1)\n",
    "    return report\n",
    "\n",
    "# Testing\n",
    "check_room_type_availability(\"single room\", \"2025-05-17\", \"2025-05-19\")"
   ]
  },
  {
   "cell_type": "code",
   "execution_count": 11,
   "id": "19de4f1c-884d-43b6-8363-812435f4bf84",
   "metadata": {},
   "outputs": [],
   "source": [
    "check_room_type_availability_function = {\n",
    "    \"name\": \"check_room_type_availability\",\n",
    "    \"description\": \"Get room type availability data. Call this whenever you need to know the availability of a particular room type during a specific time period, for example when a customer asks 'Is this room type available from this date to this date'\",\n",
    "    \"parameters\": {\n",
    "        \"type\": \"object\",\n",
    "        \"properties\": {\n",
    "            \"room_type\": {\n",
    "                \"type\": \"string\",\n",
    "                \"description\": \"The type of room the customer wants to check the availability of\"\n",
    "            },\n",
    "            \"start_date\": {\n",
    "                \"type\": \"string\",\n",
    "                \"description\": \"Room availability check start date. This date must be in YYYY-MM-DD format. Therefore, change the date format to YYYY-MM-DD first.\"\n",
    "            },\n",
    "            \"end_date\": {\n",
    "                \"type\": \"string\",\n",
    "                \"description\": \"Room availability check end date. This date must be in YYYY-MM-DD format. Therefore, change the date format to YYYY-MM-DD first.\"\n",
    "            }\n",
    "        },\n",
    "        \"required\": [\"room_type\", \"start_date\", \"end_date\"],\n",
    "        \"additionalProperties\": False\n",
    "    }\n",
    "}"
   ]
  },
  {
   "cell_type": "markdown",
   "id": "2955d4e4-7103-43f9-9f91-8f7d2a18a85c",
   "metadata": {},
   "source": [
    "## book_a_room"
   ]
  },
  {
   "cell_type": "code",
   "execution_count": 12,
   "id": "47e2f710-71b0-47f2-b5da-e01d373a1096",
   "metadata": {},
   "outputs": [],
   "source": [
    "def book_a_room(customer_name: str, room_type: str, checkin_date: str, checkout_date: str, num_guest: int) -> str:\n",
    "    room_type = room_type.title()\n",
    "    \n",
    "    # Check room type\n",
    "    if not room_type in get_room_type():\n",
    "        return \"Failed to process your booking. Room type unknown.\"\n",
    "\n",
    "    # Check date\n",
    "    nights = calculate_nights(checkin_date, checkout_date)\n",
    "    if nights <= 0:\n",
    "        return \"Failed to process your booking. Check out date is earlier than check in date.\"\n",
    "\n",
    "    # Check room availability\n",
    "    report = check_room_type_availability(room_type, checkin_date, checkout_date)\n",
    "    fully_booked = [row for row in report if row[\"Availability_Status\"] == \"fully booked\"]\n",
    "    fully_booked_dates = \", \".join([row[\"Date\"] for row in fully_booked])\n",
    "    if fully_booked:\n",
    "        return f\"Failed to process your booking. {room_type} are fully booked on these dates {fully_booked_dates}.\"\n",
    "    \n",
    "    # Add booking data\n",
    "    booking_id = generate_booking_id()\n",
    "    total_price = \"$\" + str(calculate_price(room_type, nights))\n",
    "    booking_status = \"Booked\"\n",
    "    \n",
    "    new_booking_data = {\n",
    "        \"Booking_ID\": booking_id,\n",
    "        \"Customer_Name\": customer_name,\n",
    "        \"Room_Type\": room_type,\n",
    "        \"Check_In_Date\": checkin_date,\n",
    "        \"Check_Out_Date\": checkout_date,\n",
    "        \"Num_Guests\": num_guest,\n",
    "        \"Total_Price\": total_price,\n",
    "        \"Booking_Status\": booking_status\n",
    "    }\n",
    "    add_booking_data(new_booking_data)\n",
    "\n",
    "    # Update room availability\n",
    "    update_room_availability(room_type, checkin_date, nights, update_type=\"booking\")\n",
    "    \n",
    "    status = f\"Your booking is successful with the following details:\\n\"\n",
    "    status += f\"{new_booking_data}\\n\"\n",
    "    status += f\"Please save and remember your booking ID: {booking_id}\\n\"\n",
    "    if num_guest > get_max_occupancy(room_type):\n",
    "        status += \"The number of guests exceeds the maximum occupancy, there will be an additional charge.\"\n",
    "        \n",
    "    return status"
   ]
  },
  {
   "cell_type": "code",
   "execution_count": 13,
   "id": "61d3a541-bafb-4dac-ad74-bb19382b732c",
   "metadata": {},
   "outputs": [
    {
     "name": "stdout",
     "output_type": "stream",
     "text": [
      "Your booking is successful with the following details:\n",
      "{'Booking_ID': 'B010', 'Customer_Name': 'Firlyana', 'Room_Type': 'Suite Room', 'Check_In_Date': '2025-05-18', 'Check_Out_Date': '2025-05-18', 'Num_Guests': 5, 'Total_Price': '$200.0', 'Booking_Status': 'Booked'}\n",
      "Please save and remember your booking ID: B010\n",
      "The number of guests exceeds the maximum occupancy, there will be an additional charge.\n"
     ]
    }
   ],
   "source": [
    "# Test\n",
    "test = book_a_room(\n",
    "    customer_name=\"Yusup\",\n",
    "    room_type=\"suite room\",\n",
    "    checkin_date=\"2025-05-18\",\n",
    "    checkout_date=\"2025-05-18\",\n",
    "    num_guest=5\n",
    ")\n",
    "print(test)"
   ]
  },
  {
   "cell_type": "code",
   "execution_count": 14,
   "id": "db6b5cea-2f16-4068-adea-f22e55a41cb0",
   "metadata": {},
   "outputs": [],
   "source": [
    "book_a_room_function = {\n",
    "    \"name\": \"book_a_room\",\n",
    "    \"description\": \"To book a room. Call this whenever you need to book a specific room type for a specific period of time for a customer, for example when a customer asks 'I would like to book a room at your hotel'\",\n",
    "    \"parameters\": {\n",
    "        \"type\": \"object\",\n",
    "        \"properties\": {\n",
    "            \"customer_name\" : {\n",
    "                \"type\": \"string\",\n",
    "                \"description\": \"Name of the customer who booked the room\"\n",
    "            },\n",
    "            \"room_type\": {\n",
    "                \"type\": \"string\",\n",
    "                \"description\": \"The type of room the customer booked\"\n",
    "            },\n",
    "            \"checkin_date\": {\n",
    "                \"type\": \"string\",\n",
    "                \"description\": \"Check-in date. This date must be in YYYY-MM-DD format. Therefore, change the date format to YYYY-MM-DD first.\"\n",
    "            },\n",
    "            \"checkout_date\": {\n",
    "                \"type\": \"string\",\n",
    "                \"description\": \"Check-out date. This date must be in YYYY-MM-DD format. Therefore, change the date format to YYYY-MM-DD first.\"\n",
    "            },\n",
    "            \"num_guest\": {\n",
    "                \"type\": \"integer\",\n",
    "                \"description\": \"Number of guests who will stay in the room\"\n",
    "            }\n",
    "        },\n",
    "        \"required\": [\"customer_name\", \"room_type\", \"checkin_date\", \"checkout_date\", \"num_guest\"],\n",
    "        \"additionalProperties\": False\n",
    "    }\n",
    "}"
   ]
  },
  {
   "cell_type": "markdown",
   "id": "29b13885-2ba7-4365-bf7d-5cb4ed557f55",
   "metadata": {},
   "source": [
    "## get_booking_data"
   ]
  },
  {
   "cell_type": "code",
   "execution_count": 15,
   "id": "199fbec8-79db-46fc-9060-e2dc5ec07b54",
   "metadata": {},
   "outputs": [
    {
     "data": {
      "text/plain": [
       "{'Booking_ID': 'B006',\n",
       " 'Customer_Name': 'Firlyana',\n",
       " 'Room_Type': 'Suite Room',\n",
       " 'Check_In_Date': '2025-05-18',\n",
       " 'Check_Out_Date': '2025-05-18',\n",
       " 'Num_Guests': 5,\n",
       " 'Total_Price': '$200.0',\n",
       " 'Booking_Status': 'Cancelled'}"
      ]
     },
     "execution_count": 15,
     "metadata": {},
     "output_type": "execute_result"
    }
   ],
   "source": [
    "def get_booking_data(booking_id: str) -> dict:\n",
    "    all_booking_data = load_dataset(path_booking_data)\n",
    "    booking_data = all_booking_data[all_booking_data.Booking_ID == booking_id]\n",
    "\n",
    "    if not booking_data.empty:\n",
    "        booking_data = convert_to_records(booking_data)[0]\n",
    "    else:\n",
    "        booking_data = {\"Booking_ID\":\"Unknown\", \"Booking_Data\": \"Unknown\"}\n",
    "        \n",
    "    return booking_data\n",
    "\n",
    "# Testing\n",
    "get_booking_data(\"B006\")"
   ]
  },
  {
   "cell_type": "code",
   "execution_count": 16,
   "id": "41873c89-c129-45b9-8de5-f8eee00fbbf1",
   "metadata": {},
   "outputs": [],
   "source": [
    "get_booking_data_function = {\n",
    "    \"name\": \"get_booking_data\",\n",
    "    \"description\": \"Get room booking details. Call this whenever you need to know the details of a room booking made by a customer based on their booking ID, for example when a customer asks 'I want to see my booking details'\",\n",
    "    \"parameters\": {\n",
    "        \"type\": \"object\",\n",
    "        \"properties\": {\n",
    "            \"booking_id\": {\n",
    "                \"type\": \"string\",\n",
    "                \"description\": \"Customer booking ID\"\n",
    "            }\n",
    "        },\n",
    "        \"required\": [\"booking_id\"],\n",
    "        \"additionalProperties\": False\n",
    "    }\n",
    "}"
   ]
  },
  {
   "cell_type": "markdown",
   "id": "fbed3a7c-23e3-4591-af69-58caa9aa19f4",
   "metadata": {},
   "source": [
    "## cancel_booking"
   ]
  },
  {
   "cell_type": "code",
   "execution_count": 17,
   "id": "15f7975b-8cc4-4532-86ad-232690f6747b",
   "metadata": {},
   "outputs": [],
   "source": [
    "def cancel_booking(booking_id: str) -> str:\n",
    "    # Check booking id\n",
    "    booking_data = get_booking_data(booking_id)\n",
    "    if booking_data[\"Booking_ID\"] == \"Unknown\":\n",
    "        return f\"Failed to process your booking cancellation. Your booking ID was not found.\"\n",
    "        \n",
    "    # Check booking status\n",
    "    if booking_data[\"Booking_Status\"] == \"Cancelled\":\n",
    "        return f\"Your booking cancellation has been processed.\"\n",
    "    elif booking_data[\"Booking_Status\"] == \"Confirmed\" or booking_data[\"Booking_Status\"] == \"Checked-in\":\n",
    "        return f\"You have completed the payment. Contact admin to cancel your room.\"\n",
    "    elif booking_data[\"Booking_Status\"] == \"Checked-out\":\n",
    "        return f\"You have checked out. Thank you for visiting our hotel.\"\n",
    "    \n",
    "    # Get booking details\n",
    "    booking_id = booking_data[\"Booking_ID\"]\n",
    "    customer_name = booking_data[\"Customer_Name\"]\n",
    "    room_type = booking_data[\"Room_Type\"]\n",
    "    checkin_date = booking_data[\"Check_In_Date\"]\n",
    "    checkout_date = booking_data[\"Check_Out_Date\"]\n",
    "    nights = calculate_nights(checkin_date, checkout_date)\n",
    "    \n",
    "    # Update booking data\n",
    "    df = load_dataset(path_booking_data)\n",
    "    df.loc[(df.Booking_ID == booking_id) & (df.Customer_Name == customer_name), \"Booking_Status\"] = \"Cancelled\"\n",
    "    df.to_csv(path_booking_data, index=False)\n",
    "    \n",
    "    # Update room avaiability\n",
    "    update_room_availability(room_type, checkin_date, nights, update_type=\"cancellation\")\n",
    "\n",
    "    return f\"Your booking cancellation is successful. You can check the cancellation using your Booking ID.\""
   ]
  },
  {
   "cell_type": "code",
   "execution_count": 18,
   "id": "b817f619-35c4-4054-97f9-2cdaaeaa236a",
   "metadata": {},
   "outputs": [
    {
     "data": {
      "text/plain": [
       "'Your booking cancellation has been processed.'"
      ]
     },
     "execution_count": 18,
     "metadata": {},
     "output_type": "execute_result"
    }
   ],
   "source": [
    "# Test\n",
    "cancel_booking(\"B006\")"
   ]
  },
  {
   "cell_type": "code",
   "execution_count": 19,
   "id": "99975863-a7b9-4367-85f5-b29714f7f397",
   "metadata": {},
   "outputs": [],
   "source": [
    "cancel_booking_function = {\n",
    "    \"name\": \"cancel_booking\",\n",
    "    \"description\": \"Cancel room reservation. Call this whenever you need to cancel a customer's room reservation based on their booking ID, for example when a customer asks 'I want to cancel my room reservation'\",\n",
    "    \"parameters\": {\n",
    "        \"type\": \"object\",\n",
    "        \"properties\": {\n",
    "            \"booking_id\": {\n",
    "                \"type\": \"string\",\n",
    "                \"description\": \"Customer booking ID\"\n",
    "            }\n",
    "        },\n",
    "        \"required\": [\"booking_id\"],\n",
    "        \"additionalProperties\": False\n",
    "    }\n",
    "}"
   ]
  },
  {
   "cell_type": "markdown",
   "id": "0adb322c-3f20-4a93-ac60-f7f5593a4be1",
   "metadata": {},
   "source": [
    "# Prompting"
   ]
  },
  {
   "cell_type": "code",
   "execution_count": 20,
   "id": "50309596-5182-4162-8159-48ddd87a34e8",
   "metadata": {},
   "outputs": [
    {
     "data": {
      "text/plain": [
       "[{'type': 'function',\n",
       "  'function': {'name': 'get_room_details',\n",
       "   'description': \"Get room details, including description, facilities, price per night, and maximum occupancy based on room type. Call this whenever you need to know the details of the room type, for example when a customer asks 'Tell me more about this room type'\",\n",
       "   'parameters': {'type': 'object',\n",
       "    'properties': {'room_type': {'type': 'string',\n",
       "      'description': 'The room type that customers want to know about'}},\n",
       "    'required': ['room_type'],\n",
       "    'additionalProperties': False}}},\n",
       " {'type': 'function',\n",
       "  'function': {'name': 'check_room_type_availability',\n",
       "   'description': \"Get room type availability data. Call this whenever you need to know the availability of a particular room type during a specific time period, for example when a customer asks 'Is this room type available from this date to this date'\",\n",
       "   'parameters': {'type': 'object',\n",
       "    'properties': {'room_type': {'type': 'string',\n",
       "      'description': 'The type of room the customer wants to check the availability of'},\n",
       "     'start_date': {'type': 'string',\n",
       "      'description': 'Room availability check start date. This date must be in YYYY-MM-DD format. Therefore, change the date format to YYYY-MM-DD first.'},\n",
       "     'end_date': {'type': 'string',\n",
       "      'description': 'Room availability check end date. This date must be in YYYY-MM-DD format. Therefore, change the date format to YYYY-MM-DD first.'}},\n",
       "    'required': ['room_type', 'start_date', 'end_date'],\n",
       "    'additionalProperties': False}}},\n",
       " {'type': 'function',\n",
       "  'function': {'name': 'book_a_room',\n",
       "   'description': \"To book a room. Call this whenever you need to book a specific room type for a specific period of time for a customer, for example when a customer asks 'I would like to book a room at your hotel'\",\n",
       "   'parameters': {'type': 'object',\n",
       "    'properties': {'customer_name': {'type': 'string',\n",
       "      'description': 'Name of the customer who booked the room'},\n",
       "     'room_type': {'type': 'string',\n",
       "      'description': 'The type of room the customer booked'},\n",
       "     'checkin_date': {'type': 'string',\n",
       "      'description': 'Check-in date. This date must be in YYYY-MM-DD format. Therefore, change the date format to YYYY-MM-DD first.'},\n",
       "     'checkout_date': {'type': 'string',\n",
       "      'description': 'Check-out date. This date must be in YYYY-MM-DD format. Therefore, change the date format to YYYY-MM-DD first.'},\n",
       "     'num_guest': {'type': 'integer',\n",
       "      'description': 'Number of guests who will stay in the room'}},\n",
       "    'required': ['customer_name',\n",
       "     'room_type',\n",
       "     'checkin_date',\n",
       "     'checkout_date',\n",
       "     'num_guest'],\n",
       "    'additionalProperties': False}}},\n",
       " {'type': 'function',\n",
       "  'function': {'name': 'get_booking_data',\n",
       "   'description': \"Get room booking details. Call this whenever you need to know the details of a room booking made by a customer based on their booking ID, for example when a customer asks 'I want to see my booking details'\",\n",
       "   'parameters': {'type': 'object',\n",
       "    'properties': {'booking_id': {'type': 'string',\n",
       "      'description': 'Customer booking ID'}},\n",
       "    'required': ['booking_id'],\n",
       "    'additionalProperties': False}}},\n",
       " {'type': 'function',\n",
       "  'function': {'name': 'cancel_booking',\n",
       "   'description': \"Cancel room reservation. Call this whenever you need to cancel a customer's room reservation based on their booking ID, for example when a customer asks 'I want to cancel my room reservation'\",\n",
       "   'parameters': {'type': 'object',\n",
       "    'properties': {'booking_id': {'type': 'string',\n",
       "      'description': 'Customer booking ID'}},\n",
       "    'required': ['booking_id'],\n",
       "    'additionalProperties': False}}}]"
      ]
     },
     "execution_count": 20,
     "metadata": {},
     "output_type": "execute_result"
    }
   ],
   "source": [
    "tools = [\n",
    "    {\"type\": \"function\", \"function\": get_room_details_function},\n",
    "    {\"type\": \"function\", \"function\": check_room_type_availability_function},\n",
    "    {\"type\": \"function\", \"function\": book_a_room_function},\n",
    "    {\"type\": \"function\", \"function\": get_booking_data_function},\n",
    "    {\"type\": \"function\", \"function\": cancel_booking_function}\n",
    "]\n",
    "tools"
   ]
  },
  {
   "cell_type": "code",
   "execution_count": 21,
   "id": "1f900928-7df8-44d1-9b82-d83d456c2210",
   "metadata": {},
   "outputs": [],
   "source": [
    "def handle_tool_call(message):\n",
    "    responses = []\n",
    "\n",
    "    for tool_call in message.tool_calls:\n",
    "        tool_name = tool_call.function.name\n",
    "        arguments = json.loads(tool_call.function.arguments)\n",
    "        \n",
    "        logging.debug(f\"Calling {tool_name}.\")\n",
    "        logging.debug(f\"Arguments: {arguments}\")\n",
    "        \n",
    "        if tool_name == \"get_room_details\":\n",
    "            room_type = arguments.get(\"room_type\")\n",
    "            room_details = get_room_details(room_type)\n",
    "            content = {\"room_type\": room_type, \"room_details\": room_details}\n",
    "            \n",
    "        elif tool_name == \"check_room_type_availability\":\n",
    "            room_type = arguments.get(\"room_type\")\n",
    "            start_date = arguments.get(\"start_date\")\n",
    "            end_date = arguments.get(\"end_date\")\n",
    "            report = check_room_type_availability(room_type, start_date, end_date)\n",
    "            content = {\n",
    "                \"room_type\": room_type,\n",
    "                \"start_date\": start_date,\n",
    "                \"end_date\": end_date,\n",
    "                \"report\": report\n",
    "            }\n",
    "            \n",
    "        elif tool_name == \"book_a_room\":\n",
    "            customer_name = arguments.get(\"customer_name\")\n",
    "            room_type = arguments.get(\"room_type\")\n",
    "            checkin_date = arguments.get(\"checkin_date\")\n",
    "            checkout_date = arguments.get(\"checkout_date\")\n",
    "            num_guest = arguments.get(\"num_guest\")\n",
    "            status = book_a_room(customer_name, room_type, checkin_date, checkout_date, num_guest)\n",
    "            content = {\n",
    "                \"customer_name\": customer_name,\n",
    "                \"room_type\": room_type,\n",
    "                \"checkin_date\": checkin_date,\n",
    "                \"checkout_date\": checkout_date,\n",
    "                \"num_guest\": num_guest,\n",
    "                \"status\": status\n",
    "            }\n",
    "            \n",
    "        elif tool_name == \"get_booking_data\":\n",
    "            booking_id = arguments.get(\"booking_id\")\n",
    "            booking_data = get_booking_data(booking_id)\n",
    "            content = {\"booking_id\": booking_id, \"booking_data\": booking_data}\n",
    "            \n",
    "        elif tool_name == \"cancel_booking\":\n",
    "            booking_id = arguments.get(\"booking_id\")\n",
    "            status = cancel_booking(booking_id)\n",
    "            content = {\"booking_id\": booking_id, \"status\": status}\n",
    "            \n",
    "        else:\n",
    "            content = {\"error\": f\"Unknown tool: {tool_name}\"}\n",
    "\n",
    "        responses.append({\n",
    "            \"role\": \"tool\",\n",
    "            \"content\": json.dumps(content),\n",
    "            \"tool_call_id\": tool_call.id\n",
    "        })\n",
    "\n",
    "    return responses"
   ]
  },
  {
   "cell_type": "code",
   "execution_count": 22,
   "id": "6b066e01-b564-4bc1-92d4-c372aca4bb92",
   "metadata": {},
   "outputs": [],
   "source": [
    "system_message = \"You are an assistant who helps for the Kabil Hotel called kAIbil. \"\n",
    "system_message += f\"Kabil Hotel offers 4 types of rooms including: {', '.join(get_room_type())}. \"\n",
    "system_message += \"Respond to customers enthusiastically, politely, and professionally. \"\n",
    "system_message += \"Always be accurate. If you don't know the answer, say so and encourage the customer to look at the information on the website or contact customer service. \"\n",
    "system_message += \"The hotel website can be accessed here www.kabilhotels.com. \"\n",
    "system_message += \"Customer service contact number is 711870. \"\n",
    "system_message += \"The hotel location can be accessed here https://g.co/kgs/Wqk4SVK.\"\n",
    "\n",
    "def chat(message, history, client: OpenAI=llama_client, model: str=llama_model):\n",
    "    \"\"\"Gradio dedicated function for chatbot\"\"\"\n",
    "    \n",
    "    messages = [{\"role\": \"system\", \"content\": system_message}] + history + [{\"role\": \"user\", \"content\": message}]\n",
    "\n",
    "    response = client.chat.completions.create(\n",
    "        model=model,\n",
    "        messages=messages,\n",
    "        tools=tools,\n",
    "        temperature=0.3\n",
    "    )\n",
    "    \n",
    "    logging.debug(f\"Finish reason: {response.choices[0].finish_reason}\")\n",
    "    if response.choices[0].finish_reason == \"tool_calls\":\n",
    "        tool_message = response.choices[0].message\n",
    "        tool_calls = tool_message.tool_calls\n",
    "        \n",
    "        tool_responses = handle_tool_call(tool_message)\n",
    "\n",
    "        messages.append(tool_message)\n",
    "        messages.extend(tool_responses)\n",
    "\n",
    "        response = client.chat.completions.create(\n",
    "            model=model,\n",
    "            messages=messages,\n",
    "            temperature=0.3\n",
    "        )\n",
    "        \n",
    "    return response.choices[0].message.content"
   ]
  },
  {
   "cell_type": "markdown",
   "id": "822297b7-1ac6-4c00-b3b5-a1d7c795f983",
   "metadata": {},
   "source": [
    "# UI"
   ]
  },
  {
   "cell_type": "code",
   "execution_count": 26,
   "id": "96be9d00-abf3-4034-9c79-0eb61fbb72b7",
   "metadata": {
    "scrolled": true
   },
   "outputs": [
    {
     "name": "stdout",
     "output_type": "stream",
     "text": [
      "* Running on local URL:  http://127.0.0.1:7863\n",
      "\n",
      "To create a public link, set `share=True` in `launch()`.\n"
     ]
    },
    {
     "data": {
      "text/html": [
       "<div><iframe src=\"http://127.0.0.1:7863/\" width=\"100%\" height=\"500\" allow=\"autoplay; camera; microphone; clipboard-read; clipboard-write;\" frameborder=\"0\" allowfullscreen></iframe></div>"
      ],
      "text/plain": [
       "<IPython.core.display.HTML object>"
      ]
     },
     "metadata": {},
     "output_type": "display_data"
    },
    {
     "data": {
      "text/plain": []
     },
     "execution_count": 26,
     "metadata": {},
     "output_type": "execute_result"
    }
   ],
   "source": [
    "gr.ChatInterface(fn=chat, type=\"messages\").launch()"
   ]
  },
  {
   "cell_type": "code",
   "execution_count": null,
   "id": "93911204-822d-4907-9b58-c9e44f2fcfb0",
   "metadata": {},
   "outputs": [],
   "source": []
  }
 ],
 "metadata": {
  "kernelspec": {
   "display_name": "llms",
   "language": "python",
   "name": "llms"
  },
  "language_info": {
   "codemirror_mode": {
    "name": "ipython",
    "version": 3
   },
   "file_extension": ".py",
   "mimetype": "text/x-python",
   "name": "python",
   "nbconvert_exporter": "python",
   "pygments_lexer": "ipython3",
   "version": "3.11.12"
  }
 },
 "nbformat": 4,
 "nbformat_minor": 5
}
